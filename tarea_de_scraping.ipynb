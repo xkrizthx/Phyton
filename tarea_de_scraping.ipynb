{
  "nbformat": 4,
  "nbformat_minor": 0,
  "metadata": {
    "colab": {
      "provenance": [],
      "collapsed_sections": [],
      "authorship_tag": "ABX9TyNzhWgwjSu30SpN5B7HzRXU",
      "include_colab_link": true
    },
    "kernelspec": {
      "name": "python3",
      "display_name": "Python 3"
    },
    "language_info": {
      "name": "python"
    }
  },
  "cells": [
    {
      "cell_type": "markdown",
      "metadata": {
        "id": "view-in-github",
        "colab_type": "text"
      },
      "source": [
        "<a href=\"https://colab.research.google.com/github/xkrizthx/Python/blob/python/tarea_de_scraping.ipynb\" target=\"_parent\"><img src=\"https://colab.research.google.com/assets/colab-badge.svg\" alt=\"Open In Colab\"/></a>"
      ]
    },
    {
      "cell_type": "markdown",
      "source": [
        "# Tarea de scraping\n"
      ],
      "metadata": {
        "id": "JV3rMJgi8XdJ"
      }
    },
    {
      "cell_type": "code",
      "execution_count": 12,
      "metadata": {
        "colab": {
          "base_uri": "https://localhost:8080/",
          "height": 200
        },
        "id": "NLbsfcAZa4Aj",
        "outputId": "ae464866-2590-4f7d-ae17-455738d53022"
      },
      "outputs": [
        {
          "output_type": "error",
          "ename": "NameError",
          "evalue": "ignored",
          "traceback": [
            "\u001b[0;31m---------------------------------------------------------------------------\u001b[0m",
            "\u001b[0;31mNameError\u001b[0m                                 Traceback (most recent call last)",
            "\u001b[0;32m<ipython-input-12-10f817d43d63>\u001b[0m in \u001b[0;36m<module>\u001b[0;34m\u001b[0m\n\u001b[1;32m     26\u001b[0m   \u001b[0;32mwith\u001b[0m \u001b[0mopen\u001b[0m\u001b[0;34m(\u001b[0m\u001b[0;34m'bolsa_valor.csv'\u001b[0m\u001b[0;34m,\u001b[0m\u001b[0;34m'a'\u001b[0m\u001b[0;34m)\u001b[0m \u001b[0;32mas\u001b[0m \u001b[0mcsv_file\u001b[0m\u001b[0;34m:\u001b[0m\u001b[0;34m\u001b[0m\u001b[0;34m\u001b[0m\u001b[0m\n\u001b[1;32m     27\u001b[0m       \u001b[0mwriter\u001b[0m\u001b[0;34m=\u001b[0m\u001b[0mcsv\u001b[0m\u001b[0;34m.\u001b[0m\u001b[0mwriter\u001b[0m\u001b[0;34m(\u001b[0m\u001b[0mcsv_file\u001b[0m\u001b[0;34m)\u001b[0m\u001b[0;34m\u001b[0m\u001b[0;34m\u001b[0m\u001b[0m\n\u001b[0;32m---> 28\u001b[0;31m       \u001b[0mwriter\u001b[0m\u001b[0;34m.\u001b[0m\u001b[0mwriterow\u001b[0m\u001b[0;34m(\u001b[0m\u001b[0;34m[\u001b[0m\u001b[0mname\u001b[0m\u001b[0;34m,\u001b[0m \u001b[0mfecha\u001b[0m\u001b[0;34m,\u001b[0m \u001b[0mdatetime\u001b[0m\u001b[0;34m.\u001b[0m\u001b[0mnow\u001b[0m\u001b[0;34m(\u001b[0m\u001b[0;34m)\u001b[0m\u001b[0;34m]\u001b[0m\u001b[0;34m)\u001b[0m\u001b[0;34m\u001b[0m\u001b[0;34m\u001b[0m\u001b[0m\n\u001b[0m",
            "\u001b[0;31mNameError\u001b[0m: name 'fecha' is not defined"
          ]
        }
      ],
      "source": [
        "\n",
        "from bs4 import BeautifulSoup\n",
        "import requests\n",
        "import csv\n",
        "from datetime import datetime\n",
        "\n",
        "url_page='https://www.bolsamadrid.es/esp/aspx/Indices/Resumen.aspx'\n",
        "page=requests.get(url_page).text\n",
        "soup=BeautifulSoup(page,\"lxml\")\n",
        "\n",
        "tabla=soup.find('table',attrs={'id':'ctl00_Contenido_tblÍndices'})\n",
        "\n",
        "price=\"\"\n",
        "nroFila=0\n",
        "for fila in tabla.find_all(\"tr\"):  # <td class=\"DifFlSb\" align=\"left\">IBEX 35&#174;</td><td>7.916,80</td><td>8.033,10</td><td ...\n",
        "  if nroFila>=0:\n",
        "    nro_Celda=0\n",
        "    for celda in fila.find_all(\"td\"):\n",
        "      if nro_Celda==0:\n",
        "        name=celda.text\n",
        "        print(\"Indice :\", name)\n",
        "      if nro_Celda==6:\n",
        "        fecha=celda.text\n",
        "        print(\"Fecha :\",fecha)\n",
        "      nro_Celda=nro_Celda+1\n",
        "  nroFila=nroFila+1\n",
        "  with open('bolsa_valor.csv','a') as csv_file:\n",
        "      writer=csv.writer(csv_file)\n",
        "      writer.writerow([name, fecha, datetime.now()])"
      ]
    },
    {
      "cell_type": "code",
      "source": [
        "with open('bolsa_valor.csv','a') as csv_file:\n",
        "  writer=csv.writer(csv_file)\n",
        "  writer.writerow([name, fecha, datetime.now()])"
      ],
      "metadata": {
        "id": "b8mxPwOybuBY"
      },
      "execution_count": null,
      "outputs": []
    },
    {
      "cell_type": "code",
      "source": [
        "\n",
        "from bs4 import BeautifulSoup\n",
        "import requests\n",
        "import csv\n",
        "from datetime import datetime\n",
        "\n",
        "url_pag='https://www.bolsamadrid.es/esp/aspx/Empresas/BusqEmpresas.aspx?busq=dia'\n",
        "page=requests.get(url_pag).text\n",
        "soup=BeautifulSoup(page,\"lxml\")\n",
        "tabla=soup.find('table',attrs={'class':'TblPort'})\n",
        "#print(tabla)"
      ],
      "metadata": {
        "id": "SpI-BXkYpTok"
      },
      "execution_count": 15,
      "outputs": []
    },
    {
      "cell_type": "code",
      "source": [
        "price=\"\"\n",
        "nroFila=0\n",
        "for fila in tabla.find_all(\"tr\"):  \n",
        "  if nroFila<=4:\n",
        "    nro_Celda=0\n",
        "    for celda in fila.find_all(\"td\"):\n",
        "      if nro_Celda==0:\n",
        "        name=celda.text\n",
        "        print(\"Indice :\", name)\n",
        "        enlace=celda.find('a')\n",
        "        print(enlace['href'])\n",
        "      if nro_Celda==2:\n",
        "        price=celda.text\n",
        "        print(\"Valor :\",price)\n",
        "      nro_Celda=nro_Celda+1\n",
        "  nroFila=nroFila+1\n",
        " "
      ],
      "metadata": {
        "colab": {
          "base_uri": "https://localhost:8080/"
        },
        "id": "7E6QjfdOpXrO",
        "outputId": "9e875700-c7ba-4fab-c3a2-c8855eb46add"
      },
      "execution_count": 23,
      "outputs": [
        {
          "output_type": "stream",
          "name": "stdout",
          "text": [
            "Indice : ARKADIA FINANZAS, SICAV, S.A.\n",
            "/esp/aspx/Empresas/FichaValor.aspx?ISIN=ES0175258039&ClvEmis=75258\n",
            "Indice : ATRESMEDIA CORP. DE MEDIOS DE COM. S.A.\n",
            "/esp/aspx/Empresas/FichaValor.aspx?ISIN=ES0109427734&ClvEmis=09427\n",
            "Indice : BUENDIA DE INVERSIONES, SICAV, S.A.\n",
            "/esp/aspx/Empresas/FichaValor.aspx?ISIN=ES0115246037&ClvEmis=15246\n",
            "Indice : CONCORDIA DE INVERS. MEDIT.(LIQUIDACION) (No cotiza)\n",
            "/esp/aspx/Empresas/FichaValor.aspx?ISIN=ES0121171039&ClvEmis=21171\n"
          ]
        }
      ]
    },
    {
      "cell_type": "code",
      "source": [
        "with open('busqueda.csv','a') as csv_file:\n",
        "  writer=csv.writer(csv_file)\n",
        "  writer.writerow([name, price, datetime.now()])"
      ],
      "metadata": {
        "id": "p0lX_nT1DlKQ"
      },
      "execution_count": 28,
      "outputs": []
    }
  ]
}