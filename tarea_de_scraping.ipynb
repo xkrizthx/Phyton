{
  "nbformat": 4,
  "nbformat_minor": 0,
  "metadata": {
    "colab": {
      "provenance": [],
      "collapsed_sections": [],
      "authorship_tag": "ABX9TyMs1mPZuQKuBV9C+lvjeiVL",
      "include_colab_link": true
    },
    "kernelspec": {
      "name": "python3",
      "display_name": "Python 3"
    },
    "language_info": {
      "name": "python"
    },
    "gpuClass": "standard"
  },
  "cells": [
    {
      "cell_type": "markdown",
      "metadata": {
        "id": "view-in-github",
        "colab_type": "text"
      },
      "source": [
        "<a href=\"https://colab.research.google.com/github/xkrizthx/Python/blob/python/tarea_de_scraping.ipynb\" target=\"_parent\"><img src=\"https://colab.research.google.com/assets/colab-badge.svg\" alt=\"Open In Colab\"/></a>"
      ]
    },
    {
      "cell_type": "markdown",
      "source": [
        "# Tarea de scraping\n"
      ],
      "metadata": {
        "id": "JV3rMJgi8XdJ"
      }
    },
    {
      "cell_type": "code",
      "source": [
        "from bs4 import BeautifulSoup\n",
        "import requests\n",
        "import csv\n",
        "from datetime import datetime\n",
        "\n",
        "url_pag='https://www.bolsamadrid.es/esp/aspx/Empresas/BusqEmpresas.aspx?busq=dia'\n",
        "page=requests.get(url_pag).text\n",
        "soup=BeautifulSoup(page,\"lxml\")\n",
        "tabla=soup.find('table',attrs={'class':'TblPort'})\n",
        "#print(tabla)"
      ],
      "metadata": {
        "id": "SpI-BXkYpTok"
      },
      "execution_count": null,
      "outputs": []
    },
    {
      "cell_type": "code",
      "source": [
        "lista=['Nombre',]\n",
        "nroFila=0\n",
        "for fila in tabla.find_all(\"tr\"):  \n",
        "  if nroFila <=4:\n",
        "    nro_Celda=0\n",
        "    for celda in fila.find_all(\"td\"):\n",
        "      if nro_Celda==0:\n",
        "        name=celda.text\n",
        "        lista.append (name)\n",
        "        enlace=celda.find('a')\n",
        "      nro_Celda=nro_Celda+1\n",
        "  nroFila=nroFila+1\n"
      ],
      "metadata": {
        "id": "7rM-3eltFZK8"
      },
      "execution_count": null,
      "outputs": []
    },
    {
      "cell_type": "code",
      "source": [
        "with open('tarea_scarping.csv','w') as archivo:\n",
        "    writer=csv.writer(archivo)\n",
        "    for x in lista :\n",
        "      writer.writerow([x])    \n",
        "print(\"CSV Creado completo\")"
      ],
      "metadata": {
        "id": "-YISURtQi4Tq",
        "colab": {
          "base_uri": "https://localhost:8080/"
        },
        "outputId": "41078f09-ff4c-44bb-8e1c-5c0d1aeb9e97"
      },
      "execution_count": null,
      "outputs": [
        {
          "output_type": "stream",
          "name": "stdout",
          "text": [
            "CSV Creado completo\n"
          ]
        }
      ]
    }
  ]
}