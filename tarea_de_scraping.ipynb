{
  "nbformat": 4,
  "nbformat_minor": 0,
  "metadata": {
    "colab": {
      "provenance": [],
      "collapsed_sections": [],
      "authorship_tag": "ABX9TyPQx48fW1x0pJMmiL6A/lV/",
      "include_colab_link": true
    },
    "kernelspec": {
      "name": "python3",
      "display_name": "Python 3"
    },
    "language_info": {
      "name": "python"
    },
    "gpuClass": "standard"
  },
  "cells": [
    {
      "cell_type": "markdown",
      "metadata": {
        "id": "view-in-github",
        "colab_type": "text"
      },
      "source": [
        "<a href=\"https://colab.research.google.com/github/xkrizthx/Python/blob/python/tarea_de_scraping.ipynb\" target=\"_parent\"><img src=\"https://colab.research.google.com/assets/colab-badge.svg\" alt=\"Open In Colab\"/></a>"
      ]
    },
    {
      "cell_type": "markdown",
      "source": [
        "# Tarea de scraping\n"
      ],
      "metadata": {
        "id": "JV3rMJgi8XdJ"
      }
    },
    {
      "cell_type": "code",
      "execution_count": null,
      "metadata": {
        "id": "NLbsfcAZa4Aj"
      },
      "outputs": [],
      "source": [
        "\n",
        "from bs4 import BeautifulSoup\n",
        "import requests\n",
        "import csv\n",
        "from datetime import datetime\n",
        "\n",
        "url_page='https://www.bolsamadrid.es/esp/aspx/Indices/Resumen.aspx'\n",
        "page=requests.get(url_page).text\n",
        "soup=BeautifulSoup(page,\"lxml\")\n",
        "\n",
        "tabla=soup.find('table',attrs={'id':'ctl00_Contenido_tblÍndices'})\n",
        "\n",
        "price=\"\"\n",
        "nroFila=0\n",
        "for fila in tabla.find_all(\"tr\"):  # <td class=\"DifFlSb\" align=\"left\">IBEX 35&#174;</td><td>7.916,80</td><td>8.033,10</td><td ...\n",
        "  if nroFila>=0:\n",
        "    nro_Celda=0\n",
        "    for celda in fila.find_all(\"td\"):\n",
        "      if nro_Celda==0:\n",
        "        name=celda.text\n",
        "        print(\"Indice :\", name)\n",
        "      if nro_Celda==6:\n",
        "        fecha=celda.text\n",
        "        print(\"Fecha :\",fecha)\n",
        "      nro_Celda=nro_Celda+1\n",
        "  nroFila=nroFila+1\n",
        "  #with open('bolsa_valor.csv','a') as csv_file:\n",
        "    #writer=csv.writer(csv_file)\n",
        "    #writer.writerow([name, fecha, datetime.now()])"
      ]
    },
    {
      "cell_type": "code",
      "source": [
        "with open('bolsa_valor.csv','a') as csv_file:\n",
        "  writer=csv.writer(csv_file)\n",
        "  writer.writerow([name, fecha, datetime.now()])"
      ],
      "metadata": {
        "id": "b8mxPwOybuBY"
      },
      "execution_count": null,
      "outputs": []
    },
    {
      "cell_type": "code",
      "source": [
        "\n",
        "from bs4 import BeautifulSoup\n",
        "import requests\n",
        "import csv\n",
        "from datetime import datetime\n",
        "\n",
        "url_pag='https://www.bolsamadrid.es/esp/aspx/Empresas/BusqEmpresas.aspx?busq=dia'\n",
        "page=requests.get(url_pag).text\n",
        "soup=BeautifulSoup(page,\"lxml\")\n",
        "tabla=soup.find('table',attrs={'class':'TblPort'})\n",
        "#print(tabla)"
      ],
      "metadata": {
        "id": "SpI-BXkYpTok"
      },
      "execution_count": null,
      "outputs": []
    },
    {
      "cell_type": "code",
      "source": [
        "nroFila=0\n",
        "for fila in tabla.find_all(\"tr\"):  \n",
        "  if nroFila<=4:\n",
        "    nro_Celda=0\n",
        "    for celda in fila.find_all(\"td\"):\n",
        "      if nro_Celda==0:\n",
        "        name=celda.text \n",
        "        #print(\"Nombres :\", name)\n",
        "        open('busqueda.csv','a') as csv_file:\n",
        "        writer=csv.writer(csv_file)\n",
        "        writer.writerow([name, price, datetime.now()]) \n",
        "        enlace=celda.find('a')\n",
        "      nro_Celda=nro_Celda+1\n",
        "  nroFila=nroFila+1\n",
        " \n",
        "  \n",
        " "
      ],
      "metadata": {
        "colab": {
          "base_uri": "https://localhost:8080/",
          "height": 131
        },
        "id": "7E6QjfdOpXrO",
        "outputId": "cce5af62-414d-4c76-b37a-ea014daec120"
      },
      "execution_count": null,
      "outputs": [
        {
          "output_type": "error",
          "ename": "SyntaxError",
          "evalue": "ignored",
          "traceback": [
            "\u001b[0;36m  File \u001b[0;32m\"<ipython-input-57-890312d2ae2e>\"\u001b[0;36m, line \u001b[0;32m9\u001b[0m\n\u001b[0;31m    open('busqueda.csv','a') as csv_file:\u001b[0m\n\u001b[0m                              ^\u001b[0m\n\u001b[0;31mSyntaxError\u001b[0m\u001b[0;31m:\u001b[0m invalid syntax\n"
          ]
        }
      ]
    },
    {
      "cell_type": "code",
      "source": [
        "lista=[]\n",
        "nroFila=0\n",
        "for fila in tabla.find_all(\"tr\"):  \n",
        "  if nroFila <=4:\n",
        "    nro_Celda=0\n",
        "    for celda in fila.find_all(\"td\"):\n",
        "      if nro_Celda==0:\n",
        "        name=celda.text\n",
        "        lista.append (name)\n",
        "        enlace=celda.find('a')\n",
        "      nro_Celda=nro_Celda+1\n",
        "  nroFila=nroFila+1\n",
        "  \n"
      ],
      "metadata": {
        "id": "7rM-3eltFZK8"
      },
      "execution_count": 124,
      "outputs": []
    },
    {
      "cell_type": "code",
      "source": [
        "with open('tarea_scarping.csv','w',newline='\\n') as archivo:\n",
        "    writer=csv.writer(archivo)\n",
        "    writer.writerow(lista)\n",
        "print(\"CSV Creado completo\")"
      ],
      "metadata": {
        "id": "-YISURtQi4Tq",
        "colab": {
          "base_uri": "https://localhost:8080/"
        },
        "outputId": "ad5656d0-a5e4-4b18-dfc6-c32373681f77"
      },
      "execution_count": 138,
      "outputs": [
        {
          "output_type": "stream",
          "name": "stdout",
          "text": [
            "CSV Creado completo\n"
          ]
        }
      ]
    }
  ]
}